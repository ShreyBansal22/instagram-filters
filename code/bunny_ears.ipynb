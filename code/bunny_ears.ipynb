{
 "cells": [
  {
   "cell_type": "code",
   "execution_count": 2,
   "metadata": {},
   "outputs": [],
   "source": [
    "import cv2\n",
    "import dlib\n",
    "import numpy as np\n",
    "from math import hypot\n",
    "detector=dlib.get_frontal_face_detector()\n",
    "predictor=dlib.shape_predictor('C:/Users/S_H_R_E_Y/Downloads/shape_predictor_68_face_landmarks.dat')"
   ]
  },
  {
   "cell_type": "code",
   "execution_count": 4,
   "metadata": {},
   "outputs": [],
   "source": [
    "bunny_img=cv2.imread('C:/Users/S_H_R_E_Y/Downloads/bunny_ears_png.png')\n",
    "cap=cv2.VideoCapture(0)\n",
    "while True:\n",
    "    _,frame=cap.read()\n",
    "    gray_frame=cv2.cvtColor(frame,cv2.COLOR_BGR2GRAY)\n",
    "    faces=detector(frame)\n",
    "    for face in faces:\n",
    "        landmarks=predictor(gray_frame,face)\n",
    "        left_point=(landmarks.part(18).x,landmarks.part(18).y-120)\n",
    "        right_point=(landmarks.part(25).x,landmarks.part(25).y-100)\n",
    "        #cv2.circle(frame,first,3,(255,0,0),3)\n",
    "        #cv2.circle(frame,last,3,(0,255,0),3)\n",
    "        ear_width=int(hypot(left_point[0]-right_point[0],left_point[1]-right_point[1])*1.2)\n",
    "        ear_height=int(1.005*ear_width*1.2)\n",
    "        ear_area=frame[left_point[1]:left_point[1]+ear_height,left_point[0]:left_point[0]+ear_width]\n",
    "        bunny_ears=cv2.resize(bunny_img,(ear_width,ear_height))\n",
    "        bunny_ears_gray=cv2.cvtColor(bunny_ears,cv2.COLOR_BGR2GRAY)\n",
    "        _,bunny_mask=cv2.threshold(bunny_ears_gray,220,255,cv2.THRESH_BINARY)\n",
    "        bunny_ears[bunny_mask==255]=0\n",
    "        no_ears_area=cv2.bitwise_and(ear_area,ear_area,mask=bunny_mask)\n",
    "        final_ear=cv2.add(no_ears_area,bunny_ears)\n",
    "        frame[left_point[1]:left_point[1]+ear_height,left_point[0]:left_point[0]+ear_width]=final_ear\n",
    "        #cv2.imshow('no_ears_area',no_ears_area)\n",
    "        #cv2.imshow('bunny_ears',bunny_ears)\n",
    "        #cv2.imshow('bunny_ears_gray',bunny_ears_gray)\n",
    "    cv2.imshow('frame',frame)\n",
    "    if cv2.waitKey(1)&0xff==ord('q'):\n",
    "        break\n",
    "cap.release()\n",
    "cv2.destroyAllWindows()"
   ]
  },
  {
   "cell_type": "code",
   "execution_count": null,
   "metadata": {},
   "outputs": [],
   "source": []
  }
 ],
 "metadata": {
  "language_info": {
   "codemirror_mode": {
    "name": "ipython",
    "version": 3
   },
   "file_extension": ".py",
   "mimetype": "text/x-python",
   "name": "python",
   "nbconvert_exporter": "python",
   "pygments_lexer": "ipython3",
   "version": "3.8.2-final"
  },
  "orig_nbformat": 2,
  "kernelspec": {
   "name": "python38264bite97321b42c334870bdeaccdf56bdcbce",
   "display_name": "Python 3.8.2 64-bit"
  }
 },
 "nbformat": 4,
 "nbformat_minor": 2
}