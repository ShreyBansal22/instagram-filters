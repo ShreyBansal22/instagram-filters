{
 "cells": [
  {
   "cell_type": "code",
   "execution_count": 1,
   "metadata": {},
   "outputs": [],
   "source": [
    "import cv2\n",
    "import numpy as np \n",
    "import dlib\n",
    "from math import hypot\n",
    "\n"
   ]
  },
  {
   "cell_type": "code",
   "execution_count": 2,
   "metadata": {},
   "outputs": [],
   "source": [
    "pig_img=cv2.imread('C:/Users/S_H_R_E_Y/Downloads/pig_nose (2).png')\n",
    "#cv2.imshow(\"pig_nose\",pig_nose)\n",
    "detector=dlib.get_frontal_face_detector()\n",
    "predictor=dlib.shape_predictor('C:/Users/S_H_R_E_Y/Downloads/shape_predictor_68_face_landmarks.dat')\n",
    "cap=cv2.VideoCapture(0)\n",
    "while True:\n",
    "    _,frame=cap.read()\n",
    "    gray_frame=cv2.cvtColor(frame,cv2.COLOR_BGR2GRAY)\n",
    "    faces=detector(frame)\n",
    "    for face in faces:\n",
    "        #print(face)\n",
    "        landmarks=predictor(gray_frame,face)\n",
    "        top_nose=(landmarks.part(29).x,landmarks.part(29).y) \n",
    "        left_nose=(landmarks.part(31).x,landmarks.part(31).y)\n",
    "        right_nose=(landmarks.part(35).x,landmarks.part(35).y)\n",
    "        centre_nose=(landmarks.part(30).x,landmarks.part(30).y)\n",
    " \n",
    "    #cv2.circle(frame,top_nose,2,(0,255,0),thickness=4)\n",
    "        nose_width=int(hypot(left_nose[0]-right_nose[0],left_nose[1]-right_nose[1])*1.8)\n",
    "        nose_height=int(0.67*nose_width)\n",
    "        top_left=(int(centre_nose[0]-nose_width/2),int(centre_nose[1]-nose_height/2))\n",
    "        bottom_right=(int(centre_nose[0]+nose_width/2),int(centre_nose[1]+nose_height/2))\n",
    "        #cv2.rectangle(frame,(int(centre_nose[0]-nose_width/2),int(centre_nose[1]-nose_height/2)),(int(centre_nose[0]+nose_width/2),int           (centre_nose[1]+nose_height/2)),(0,255,0),thickness=3)\n",
    "        pig_nose=cv2.resize(pig_img,(nose_width,nose_height))\n",
    "        nose_area=frame[top_left[1]:top_left[1]+nose_height,top_left[0]:top_left[0]+nose_width]\n",
    "        pig_nose_gray=cv2.cvtColor(pig_nose,cv2.COLOR_BGR2GRAY)\n",
    "        _,nose_thresh=cv2.threshold(pig_nose_gray,215,255,cv2.THRESH_BINARY)\n",
    "        pig_nose[nose_thresh==255]=0\n",
    "        no_nose_area=cv2.bitwise_and(nose_area,nose_area,mask=nose_thresh)\n",
    "        final_nose=cv2.add(no_nose_area,pig_nose)\n",
    "        frame[top_left[1]:top_left[1]+nose_height,top_left[0]:top_left[0]+nose_width]=final_nose\n",
    "    \"\"\"     cv2.imshow('no_nose_area',no_nose_area)\n",
    "        cv2.imshow('final_nose',final_nose)\n",
    "        cv2.imshow(\"nose_area\",nose_area)\n",
    "        cv2.imshow(\"nose_thresh\",nose_thresh)\n",
    "        cv2.imshow(\"pig_img_GRAY\",pig_nose_gray)\n",
    "        cv2.imshow(\"pig_img\",pig_nose)\"\"\"\n",
    "    cv2.imshow(\"Frame\",frame)\n",
    "    #cv2.imshow(\"pig_image\",pig_nose)\n",
    "    if cv2.waitKey(1)&0xff==ord('q'):\n",
    "        break\n",
    "cap.release()\n",
    "cv2.destroyAllWindows()"
   ]
  },
  {
   "cell_type": "code",
   "execution_count": null,
   "metadata": {},
   "outputs": [],
   "source": [
    " "
   ]
  }
 ],
 "metadata": {
  "language_info": {
   "codemirror_mode": {
    "name": "ipython",
    "version": 3
   },
   "file_extension": ".py",
   "mimetype": "text/x-python",
   "name": "python",
   "nbconvert_exporter": "python",
   "pygments_lexer": "ipython3",
   "version": "3.8.2-final"
  },
  "orig_nbformat": 2,
  "kernelspec": {
   "name": "python38264bite97321b42c334870bdeaccdf56bdcbce",
   "display_name": "Python 3.8.2 64-bit"
  }
 },
 "nbformat": 4,
 "nbformat_minor": 2
}